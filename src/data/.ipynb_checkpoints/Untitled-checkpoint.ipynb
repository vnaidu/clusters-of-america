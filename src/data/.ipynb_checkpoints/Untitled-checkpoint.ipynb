{
 "cells": [
  {
   "cell_type": "code",
   "execution_count": 920,
   "metadata": {},
   "outputs": [],
   "source": [
    "import requests\n",
    "from bs4 import BeautifulSoup\n",
    "\n",
    "import pandas as pd\n",
    "import numpy as np"
   ]
  },
  {
   "cell_type": "code",
   "execution_count": 933,
   "metadata": {},
   "outputs": [],
   "source": [
    "def download_wiki(title):\n",
    "    url = 'https://en.wikipedia.org/wiki/' + title\n",
    "    page = requests.get(url).text\n",
    "    return page"
   ]
  },
  {
   "cell_type": "code",
   "execution_count": 942,
   "metadata": {},
   "outputs": [],
   "source": [
    "def extract_table(page):\n",
    "    soup = BeautifulSoup(page, 'html5lib')\n",
    "    table_elm = soup.find('table', {'class': 'wikitable sortable'})\n",
    "\n",
    "    df = None\n",
    "    for r in table_elm.tbody.find_all('tr'):\n",
    "        if r.th is not None and df is None:\n",
    "            #print('ok')\n",
    "            col_names = [c.text.replace('\\n', '') for c in r.findAll('th')]\n",
    "            df = list()\n",
    "            df.append(col_names)\n",
    "        if r.td is not None and df is not None:\n",
    "            df.append([c.text.replace('\\n', '') for c in r.findAll('td')])\n",
    "\n",
    "    table_cols = ['pop_rank', 'city', 'state', 'pop_estimate', 'census', \n",
    "                  'pop_delta', 'pop_density__mi', 'pop_density__km2', \n",
    "                  'land_area__mi', 'land_area__km2', 'location']\n",
    "    return pd.DataFrame(df[1:], columns=table_cols)"
   ]
  },
  {
   "cell_type": "code",
   "execution_count": 943,
   "metadata": {},
   "outputs": [],
   "source": [
    "def clean(df):\n",
    "    df[['lat', 'long']] = df.pop('location').str.extract(r'([-+]?\\d{0,3}\\.\\d{1,4})\\; ([-+]?\\d{0,3}\\.\\d{1,4})', expand=True)\n",
    "    df.pop_rank = df.pop_rank.astype(int)\n",
    "    df.city = df.city.str.replace(r'\\[.+\\]', '')\n",
    "    df.state = df.state.str.replace(r'\\[.+\\]', '')\n",
    "    df.pop_estimate = df.pop_estimate.str.replace(r'\\,', '').astype(int)\n",
    "    df.census = df.census.str.replace(r'\\,', '').astype(int)\n",
    "    df.pop_delta = df.pop_delta.str.extract(r'([+-].+)%', expand=False).str.replace('+', '').astype(float)/100\n",
    "    df.pop_density__mi = df.pop_density__mi.str.replace(',', '').str.extract(r'(\\d+\\.\\d+)', expand=False).astype(float)\n",
    "    df.pop_density__km2 = df.pop_density__km2.str.replace(',', '').str.extract(r'(\\d+\\.\\d+)', expand=False).astype(float)\n",
    "    df.land_area__mi = df.land_area__mi.str.replace(',', '').str.extract(r'(\\d+)\\/', expand=False).astype(int)\n",
    "    df.land_area__km2 = df.land_area__km2.str.replace(',', '').str.extract(r'(\\d+)\\/', expand=False).astype(int)\n",
    "    return df"
   ]
  },
  {
   "cell_type": "code",
   "execution_count": 944,
   "metadata": {},
   "outputs": [],
   "source": [
    "def population_data():\n",
    "    html = download_wiki('List_of_United_States_cities_by_population')\n",
    "    table = extract_table(html)\n",
    "    return clean(table)"
   ]
  },
  {
   "cell_type": "code",
   "execution_count": 945,
   "metadata": {},
   "outputs": [],
   "source": [
    "pop_df = population_data()"
   ]
  },
  {
   "cell_type": "code",
   "execution_count": null,
   "metadata": {},
   "outputs": [],
   "source": []
  }
 ],
 "metadata": {
  "kernelspec": {
   "display_name": "Python 3",
   "language": "python",
   "name": "python3"
  },
  "language_info": {
   "codemirror_mode": {
    "name": "ipython",
    "version": 3
   },
   "file_extension": ".py",
   "mimetype": "text/x-python",
   "name": "python",
   "nbconvert_exporter": "python",
   "pygments_lexer": "ipython3",
   "version": "3.7.0"
  }
 },
 "nbformat": 4,
 "nbformat_minor": 2
}
